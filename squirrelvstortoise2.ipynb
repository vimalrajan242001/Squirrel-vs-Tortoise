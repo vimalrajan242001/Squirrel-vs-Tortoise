{
 "cells": [
  {
   "cell_type": "code",
   "execution_count": null,
   "metadata": {
    "executionInfo": {
     "elapsed": 2752,
     "status": "ok",
     "timestamp": 1632497272598,
     "user": {
      "displayName": "vimal rajan",
      "photoUrl": "https://lh3.googleusercontent.com/a-/AOh14GjwIlbfYE-JU1SwNDkeHXuUVjvJdUKVPcTnlfA9UA=s64",
      "userId": "15111556726459807608"
     },
     "user_tz": -330
    },
    "id": "0uzcic2Vqfou",
    "jupyter": {
     "outputs_hidden": true
    }
   },
   "outputs": [],
   "source": [
    "import numpy as np\n",
    "import pandas as pd\n",
    "from pathlib import Path\n",
    "import os.path\n",
    "\n",
    "import matplotlib.pyplot as plt\n",
    "import seaborn as sns\n",
    "\n",
    "from sklearn.model_selection import train_test_split\n",
    "\n",
    "import tensorflow as tf\n",
    "\n",
    "from sklearn.metrics import confusion_matrix, classification_report"
   ]
  },
  {
   "cell_type": "code",
   "execution_count": null,
   "metadata": {
    "colab": {
     "base_uri": "https://localhost:8080/"
    },
    "executionInfo": {
     "elapsed": 309,
     "status": "ok",
     "timestamp": 1632418031113,
     "user": {
      "displayName": "vimal rajan",
      "photoUrl": "https://lh3.googleusercontent.com/a-/AOh14GjwIlbfYE-JU1SwNDkeHXuUVjvJdUKVPcTnlfA9UA=s64",
      "userId": "15111556726459807608"
     },
     "user_tz": -330
    },
    "id": "vFUxRfd_rkVK",
    "jupyter": {
     "outputs_hidden": true
    },
    "outputId": "785854e2-32f0-4858-fdc0-5ec04899100c"
   },
   "outputs": [],
   "source": [
    "image_dir = Path('data')\n",
    "image_dir"
   ]
  },
  {
   "cell_type": "code",
   "execution_count": null,
   "metadata": {
    "id": "W99AuXmQrlY1",
    "jupyter": {
     "outputs_hidden": true
    }
   },
   "outputs": [],
   "source": [
    "filepaths = list(image_dir.glob(r'**/*.*'))\n",
    "labels = list(map(lambda x: os.path.split(os.path.split(x)[0])[1], filepaths))\n",
    "\n",
    "filepaths = pd.Series(filepaths, name='Filepath',dtype = 'str')\n",
    "labels = pd.Series(labels, name='Label',dtype = 'str')\n",
    "\n",
    "image_df = pd.concat([filepaths, labels], axis=1)"
   ]
  },
  {
   "cell_type": "code",
   "execution_count": null,
   "metadata": {
    "colab": {
     "base_uri": "https://localhost:8080/",
     "height": 417
    },
    "executionInfo": {
     "elapsed": 327,
     "status": "ok",
     "timestamp": 1632418038455,
     "user": {
      "displayName": "vimal rajan",
      "photoUrl": "https://lh3.googleusercontent.com/a-/AOh14GjwIlbfYE-JU1SwNDkeHXuUVjvJdUKVPcTnlfA9UA=s64",
      "userId": "15111556726459807608"
     },
     "user_tz": -330
    },
    "id": "9gT-nvpBt75N",
    "jupyter": {
     "outputs_hidden": true
    },
    "outputId": "0b061cc6-e6b7-47f3-de6f-5fc44446f9c5"
   },
   "outputs": [],
   "source": [
    "image_df['Filepath']"
   ]
  },
  {
   "cell_type": "code",
   "execution_count": null,
   "metadata": {
    "id": "dj-v3qaesRZ4",
    "jupyter": {
     "outputs_hidden": true
    }
   },
   "outputs": [],
   "source": [
    "train_df, test_df = train_test_split(image_df, train_size=0.8, shuffle=True, random_state=1)"
   ]
  },
  {
   "cell_type": "code",
   "execution_count": null,
   "metadata": {
    "id": "m7IKFLgOsSyn",
    "jupyter": {
     "outputs_hidden": true
    }
   },
   "outputs": [],
   "source": [
    "#img_gen = tf.keras.preprocessing.image.ImageDataGenerator(preprocessing_function=MobileNetV2)\n",
    "\n",
    "train_generator = tf.keras.preprocessing.image.ImageDataGenerator(\n",
    "    rescale=1./255,\n",
    "    horizontal_flip=True,\n",
    "    width_shift_range=0.2,\n",
    "    height_shift_range=0.2,\n",
    "    validation_split=0.2,\n",
    ")\n",
    "\n",
    "test_generator = tf.keras.preprocessing.image.ImageDataGenerator(\n",
    "    rescale=1./255\n",
    ")"
   ]
  },
  {
   "cell_type": "code",
   "execution_count": null,
   "metadata": {
    "colab": {
     "base_uri": "https://localhost:8080/"
    },
    "executionInfo": {
     "elapsed": 868,
     "status": "ok",
     "timestamp": 1632418050050,
     "user": {
      "displayName": "vimal rajan",
      "photoUrl": "https://lh3.googleusercontent.com/a-/AOh14GjwIlbfYE-JU1SwNDkeHXuUVjvJdUKVPcTnlfA9UA=s64",
      "userId": "15111556726459807608"
     },
     "user_tz": -330
    },
    "id": "jRXQ0_2gsTrv",
    "jupyter": {
     "outputs_hidden": true
    },
    "outputId": "5d974f41-aa9e-4050-efcc-d6daf6c74507"
   },
   "outputs": [],
   "source": [
    "train_images = train_generator.flow_from_dataframe(\n",
    "    dataframe=train_df,\n",
    "    x_col='Filepath',\n",
    "    y_col='Label',\n",
    "    target_size=(224, 224),\n",
    "    color_mode='rgb',\n",
    "    class_mode='binary',\n",
    "    batch_size=32,\n",
    "    shuffle=True,\n",
    "    seed=42,\n",
    "    subset='training'\n",
    ")\n",
    "\n",
    "val_images = train_generator.flow_from_dataframe(\n",
    "    dataframe=train_df,\n",
    "    x_col='Filepath',\n",
    "    y_col='Label',\n",
    "    target_size=(224, 224),\n",
    "    color_mode='rgb',\n",
    "    class_mode='binary',\n",
    "    batch_size=32,\n",
    "    shuffle=True,\n",
    "    seed=42,\n",
    "    subset='validation'\n",
    ")\n",
    "\n",
    "test_images = test_generator.flow_from_dataframe(\n",
    "    dataframe=test_df,\n",
    "    x_col='Filepath',\n",
    "    y_col='Label',\n",
    "    target_size=(224, 224),\n",
    "    color_mode='rgb',\n",
    "    class_mode='binary',\n",
    "    batch_size=32,\n",
    "    shuffle=False\n",
    ")"
   ]
  },
  {
   "cell_type": "code",
   "execution_count": null,
   "metadata": {
    "jupyter": {
     "outputs_hidden": true
    }
   },
   "outputs": [],
   "source": [
    "train_images.class_indices"
   ]
  },
  {
   "cell_type": "code",
   "execution_count": null,
   "metadata": {
    "colab": {
     "base_uri": "https://localhost:8080/"
    },
    "executionInfo": {
     "elapsed": 1578476,
     "status": "ok",
     "timestamp": 1632419643475,
     "user": {
      "displayName": "vimal rajan",
      "photoUrl": "https://lh3.googleusercontent.com/a-/AOh14GjwIlbfYE-JU1SwNDkeHXuUVjvJdUKVPcTnlfA9UA=s64",
      "userId": "15111556726459807608"
     },
     "user_tz": -330
    },
    "id": "kq9SJ3H3sUD1",
    "jupyter": {
     "outputs_hidden": true
    },
    "outputId": "780df3eb-a3e2-4a82-b955-041ea3449716"
   },
   "outputs": [],
   "source": [
    "inputs = tf.labelsras.Input(shape=(224, 224, 3))\n",
    "x = tf.keras.layers.Conv2D(filters=16, kernel_size=(3, 3), activation='relu')(inputs)\n",
    "x = tf.keras.layers.MaxPool2D()(x)\n",
    "x = tf.keras.layers.Conv2D(filters=32, kernel_size=(3, 3), activation='relu')(x)\n",
    "x = tf.keras.layers.MaxPool2D()(x)\n",
    "x = tf.keras.layers.GlobalAveragePooling2D()(x)\n",
    "x = tf.keras.layers.Dense(128, activation='relu')(x)\n",
    "x = tf.keras.layers.Dense(128, activation='relu')(x)\n",
    "outputs = tf.keras.layers.Dense(1, activation='sigmoid')(x)\n",
    "\n",
    "model = tf.keras.Model(inputs=inputs, outputs=outputs)\n",
    "\n",
    "model.compile(\n",
    "    optimizer='adam',\n",
    "    loss='binary_crossentropy',\n",
    "    metrics=['accuracy']\n",
    ")\n",
    "\n",
    "history = model.fit(\n",
    "    train_images,\n",
    "    validation_data=val_images,\n",
    "    epochs=100,\n",
    "    callbacks=[\n",
    "        tf.keras.callbacks.EarlyStopping(\n",
    "            monitor='val_loss',\n",
    "            patience=5,\n",
    "            restore_best_weights=True,\n",
    "            mode='min'\n",
    "        ),\n",
    "        tf.keras.callbacks.ReduceLROnPlateau(\n",
    "            monitor='val_loss',\n",
    "            patience=3\n",
    "        )\n",
    "    ],\n",
    "    verbose=2\n",
    ")"
   ]
  },
  {
   "cell_type": "code",
   "execution_count": null,
   "metadata": {
    "colab": {
     "base_uri": "https://localhost:8080/",
     "height": 128
    },
    "executionInfo": {
     "elapsed": 327,
     "status": "error",
     "timestamp": 1632419653934,
     "user": {
      "displayName": "vimal rajan",
      "photoUrl": "https://lh3.googleusercontent.com/a-/AOh14GjwIlbfYE-JU1SwNDkeHXuUVjvJdUKVPcTnlfA9UA=s64",
      "userId": "15111556726459807608"
     },
     "user_tz": -330
    },
    "id": "oRrW9e3usUWs",
    "jupyter": {
     "outputs_hidden": true
    },
    "outputId": "67f3ae18-6c15-4202-f4a5-a11d6b239985"
   },
   "outputs": [],
   "source": [
    "predictions = (model.predict(test_images) >= 0.5).astype(np.int)\n",
    "\n",
    "cm = confusion_matrix(test_images.labels, predictions, labels=[0, 1])\n",
    "clr = classification_report(test_images.labels, predictions, labels=[0, 1], target_names=[\"CAT\", \"DOG\"])\n",
    "\n",
    "plt.figure(figsize=(6, 6))\n",
    "sns.heatmap(cm, annot=True, fmt='g', vmin=0, cmap='Blues', cbar=False)\n",
    "plt.xticks(ticks=[0.5, 1.5], labels=[\"CAT\", \"DOG\"])\n",
    "plt.yticks(ticks=[0.5, 1.5], labels=[\"CAT\", \"DOG\"])\n",
    "plt.xlabel(\"Predicted\")\n",
    "plt.ylabel(\"Actual\")\n",
    "plt.title(\"Confusion Matrix\")\n",
    "plt.show()\n",
    "\n",
    "print(\"Classification Report:\\n----------------------\\n\", clr)"
   ]
  },
  {
   "cell_type": "code",
   "execution_count": null,
   "metadata": {
    "id": "9KAwE1IishVU",
    "jupyter": {
     "outputs_hidden": true
    }
   },
   "outputs": [],
   "source": [
    "model.save('squirrelvstortoise[72]data.h5')"
   ]
  },
  {
   "cell_type": "code",
   "execution_count": null,
   "metadata": {
    "id": "J-8KLPaIsgUX",
    "jupyter": {
     "outputs_hidden": true
    }
   },
   "outputs": [],
   "source": [
    "from tensorflow.keras.applications.resnet50 import preprocess_input, decode_predictions\n",
    "from tensorflow.keras.preprocessing import image"
   ]
  },
  {
   "cell_type": "code",
   "execution_count": null,
   "metadata": {
    "id": "53LaTujlsnoB",
    "jupyter": {
     "outputs_hidden": true
    }
   },
   "outputs": [],
   "source": [
    "def plot_img(imgpath):\n",
    "  img = imgpath\n",
    "  x=plt.imread(img)\n",
    "  plt.imshow(x)\n",
    "  x.shape"
   ]
  },
  {
   "cell_type": "code",
   "execution_count": null,
   "metadata": {
    "colab": {
     "base_uri": "https://localhost:8080/"
    },
    "executionInfo": {
     "elapsed": 16,
     "status": "ok",
     "timestamp": 1632419767206,
     "user": {
      "displayName": "vimal rajan",
      "photoUrl": "https://lh3.googleusercontent.com/a-/AOh14GjwIlbfYE-JU1SwNDkeHXuUVjvJdUKVPcTnlfA9UA=s64",
      "userId": "15111556726459807608"
     },
     "user_tz": -330
    },
    "id": "b0OFNd4VVA0I",
    "jupyter": {
     "outputs_hidden": true
    },
    "outputId": "b32f8ba9-d5b1-461e-b231-4f50d8c6994e"
   },
   "outputs": [],
   "source": [
    "classes = {'squirrel': 0, 'tortoise': 1}\n",
    "classes"
   ]
  },
  {
   "cell_type": "code",
   "execution_count": null,
   "metadata": {
    "id": "oQSUPduIRxrG",
    "jupyter": {
     "outputs_hidden": true
    }
   },
   "outputs": [],
   "source": [
    "img = image.load_img(img, target_size=(224, 224))"
   ]
  },
  {
   "cell_type": "code",
   "execution_count": null,
   "metadata": {
    "colab": {
     "base_uri": "https://localhost:8080/"
    },
    "executionInfo": {
     "elapsed": 537,
     "status": "ok",
     "timestamp": 1632293780342,
     "user": {
      "displayName": "vimal rajan",
      "photoUrl": "https://lh3.googleusercontent.com/a-/AOh14GjwIlbfYE-JU1SwNDkeHXuUVjvJdUKVPcTnlfA9UA=s64",
      "userId": "15111556726459807608"
     },
     "user_tz": -330
    },
    "id": "xfAtnLJdSD_t",
    "jupyter": {
     "outputs_hidden": true
    },
    "outputId": "d4b0867a-f539-436a-fecb-9418313509ed"
   },
   "outputs": [],
   "source": [
    "img_array = image.img_to_array(img)\n",
    "img_batch = np.expand_dims(img_array, axis=0)\n",
    "\n"
   ]
  },
  {
   "cell_type": "code",
   "execution_count": null,
   "metadata": {
    "colab": {
     "base_uri": "https://localhost:8080/"
    },
    "executionInfo": {
     "elapsed": 456,
     "status": "ok",
     "timestamp": 1632293797373,
     "user": {
      "displayName": "vimal rajan",
      "photoUrl": "https://lh3.googleusercontent.com/a-/AOh14GjwIlbfYE-JU1SwNDkeHXuUVjvJdUKVPcTnlfA9UA=s64",
      "userId": "15111556726459807608"
     },
     "user_tz": -330
    },
    "id": "-CLxfQVLSKky",
    "jupyter": {
     "outputs_hidden": true
    },
    "outputId": "c319dfb0-4158-4ac8-a59b-3932649c14e7"
   },
   "outputs": [],
   "source": [
    "img_preprocessed = preprocess_input(img_batch)\n",
    "img_preprocessed.shape"
   ]
  },
  {
   "cell_type": "code",
   "execution_count": null,
   "metadata": {
    "id": "c8LOgb_RUAu1",
    "jupyter": {
     "outputs_hidden": true
    }
   },
   "outputs": [],
   "source": [
    "def load_and_prep_image(filename, img_shape=224):\n",
    "  \"\"\"\n",
    "  Reads an image from filename, turns it into a tensor and reshapes it \n",
    "  to (img_shape, img_shape, colour_channels).\n",
    "  \"\"\"\n",
    "  # Read in the image\n",
    "  img = tf.io.read_file(filename)\n",
    "  # Decode the read file into a tensor\n",
    "  img = tf.image.decode_image(img)\n",
    "  # Resize the image\n",
    "  img = tf.image.resize(img, size=[img_shape, img_shape])\n",
    "  # Rescale the image (get all values between 0 and 1)\n",
    "  img = img/255.\n",
    "  return img"
   ]
  },
  {
   "cell_type": "code",
   "execution_count": null,
   "metadata": {
    "colab": {
     "base_uri": "https://localhost:8080/",
     "height": 269
    },
    "executionInfo": {
     "elapsed": 1489,
     "status": "ok",
     "timestamp": 1632420108136,
     "user": {
      "displayName": "vimal rajan",
      "photoUrl": "https://lh3.googleusercontent.com/a-/AOh14GjwIlbfYE-JU1SwNDkeHXuUVjvJdUKVPcTnlfA9UA=s64",
      "userId": "15111556726459807608"
     },
     "user_tz": -330
    },
    "id": "alrOHPp4UBGW",
    "jupyter": {
     "outputs_hidden": true
    },
    "outputId": "dec7385b-4b65-4133-ebab-a38c3bc2fb93"
   },
   "outputs": [],
   "source": [
    "files = \"/content/2741.jpg\"\n",
    "pre_img = load_and_prep_image(files)\n",
    "plot_img(files)"
   ]
  },
  {
   "cell_type": "code",
   "execution_count": null,
   "metadata": {
    "colab": {
     "base_uri": "https://localhost:8080/"
    },
    "executionInfo": {
     "elapsed": 5,
     "status": "ok",
     "timestamp": 1632420110574,
     "user": {
      "displayName": "vimal rajan",
      "photoUrl": "https://lh3.googleusercontent.com/a-/AOh14GjwIlbfYE-JU1SwNDkeHXuUVjvJdUKVPcTnlfA9UA=s64",
      "userId": "15111556726459807608"
     },
     "user_tz": -330
    },
    "id": "yaO3PbGoUQwy",
    "jupyter": {
     "outputs_hidden": true
    },
    "outputId": "873cecc2-0720-4625-aa73-faeb726962ab"
   },
   "outputs": [],
   "source": [
    "pred = model.predict(tf.expand_dims(pre_img, axis=0))\n",
    "print(pred)\n",
    "print(list(classes.keys())[list(classes.values()).index(int(tf.round(pred)))])  \n"
   ]
  }
 ],
 "metadata": {
  "accelerator": "GPU",
  "colab": {
   "authorship_tag": "ABX9TyNCWmKsFpt752T8ZADw91tl",
   "collapsed_sections": [],
   "name": "squirrelvstortoise.ipynb",
   "provenance": []
  },
  "kernelspec": {
   "display_name": "tf",
   "language": "python",
   "name": "tf"
  },
  "language_info": {
   "codemirror_mode": {
    "name": "ipython",
    "version": 3
   },
   "file_extension": ".py",
   "mimetype": "text/x-python",
   "name": "python",
   "nbconvert_exporter": "python",
   "pygments_lexer": "ipython3",
   "version": "3.8.11"
  }
 },
 "nbformat": 4,
 "nbformat_minor": 4
}
